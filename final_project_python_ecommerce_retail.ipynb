{
  "nbformat": 4,
  "nbformat_minor": 0,
  "metadata": {
    "colab": {
      "provenance": []
    },
    "kernelspec": {
      "name": "python3",
      "display_name": "Python 3"
    },
    "language_info": {
      "name": "python"
    }
  },
  "cells": [
    {
      "cell_type": "markdown",
      "source": [
        "# Import data"
      ],
      "metadata": {
        "id": "L1PmONIMUZir"
      }
    },
    {
      "cell_type": "code",
      "execution_count": null,
      "metadata": {
        "id": "doXBKrTj51-r",
        "colab": {
          "base_uri": "https://localhost:8080/"
        },
        "outputId": "7e004910-8a09-42fe-e71f-2239beabe129"
      },
      "outputs": [
        {
          "output_type": "stream",
          "name": "stdout",
          "text": [
            "Drive already mounted at /content/drive; to attempt to forcibly remount, call drive.mount(\"/content/drive\", force_remount=True).\n",
            "Requirement already satisfied: squarify in /usr/local/lib/python3.10/dist-packages (0.4.4)\n"
          ]
        }
      ],
      "source": [
        "from google.colab import drive\n",
        "drive.mount('/content/drive')\n",
        "!pip install squarify\n"
      ]
    },
    {
      "cell_type": "code",
      "source": [
        "import pandas as pd\n",
        "pd.options.mode.chained_assignment = None  # default='warn'\n",
        "import numpy as np\n",
        "import matplotlib.pyplot as plt\n",
        "import seaborn as sns\n",
        "import squarify\n",
        "\n",
        "df = pd.read_csv('/content/drive/MyDrive/Nguyen_Khanh_Hung_RFM_project/ecommerce_retail.csv', encoding='unicode_escape', parse_dates=['InvoiceDate'])\n",
        "seg = pd.read_csv('/content/drive/MyDrive/Nguyen_Khanh_Hung_RFM_project/segmentation.csv', encoding='unicode_escape')\n",
        "df.info()\n",
        "df.head(10)\n",
        "seg.head(10)"
      ],
      "metadata": {
        "id": "orRTsrLSFVkw",
        "colab": {
          "base_uri": "https://localhost:8080/",
          "height": 623
        },
        "outputId": "a85f1bf2-01e3-43eb-b98c-c5ea2742d731"
      },
      "execution_count": null,
      "outputs": [
        {
          "output_type": "stream",
          "name": "stdout",
          "text": [
            "<class 'pandas.core.frame.DataFrame'>\n",
            "RangeIndex: 541909 entries, 0 to 541908\n",
            "Data columns (total 8 columns):\n",
            " #   Column       Non-Null Count   Dtype         \n",
            "---  ------       --------------   -----         \n",
            " 0   InvoiceNo    541909 non-null  object        \n",
            " 1   StockCode    541909 non-null  object        \n",
            " 2   Description  540455 non-null  object        \n",
            " 3   Quantity     541909 non-null  int64         \n",
            " 4   InvoiceDate  541909 non-null  datetime64[ns]\n",
            " 5   UnitPrice    541909 non-null  float64       \n",
            " 6   CustomerID   406829 non-null  float64       \n",
            " 7   Country      541909 non-null  object        \n",
            "dtypes: datetime64[ns](1), float64(2), int64(1), object(4)\n",
            "memory usage: 33.1+ MB\n"
          ]
        },
        {
          "output_type": "execute_result",
          "data": {
            "text/plain": [
              "                 Segment                                          RFM Score\n",
              "0              Champions                  555, 554, 544, 545, 454, 455, 445\n",
              "1                  Loyal             543, 444, 435, 355, 354, 345, 344, 335\n",
              "2     Potential Loyalist  553, 551, 552, 541, 542, 533, 532, 531, 452, 4...\n",
              "3          New Customers                  512, 511, 422, 421, 412, 411, 311\n",
              "4              Promising  525, 524, 523, 522, 521, 515, 514, 513, 425,42...\n",
              "5         Need Attention             535, 534, 443, 434, 343, 334, 325, 324\n",
              "6         About To Sleep             331, 321, 312, 221, 213, 231, 241, 251\n",
              "7                At Risk  255, 254, 245, 244, 253, 252, 243, 242, 235, 2...\n",
              "8       Cannot Lose Them               155, 154, 144, 214,215,115, 114, 113\n",
              "9  Hibernating customers  332, 322, 233, 232, 223, 222, 132, 123, 122, 2..."
            ],
            "text/html": [
              "\n",
              "  <div id=\"df-e6bab31a-76e3-466d-9dba-a13909382c45\" class=\"colab-df-container\">\n",
              "    <div>\n",
              "<style scoped>\n",
              "    .dataframe tbody tr th:only-of-type {\n",
              "        vertical-align: middle;\n",
              "    }\n",
              "\n",
              "    .dataframe tbody tr th {\n",
              "        vertical-align: top;\n",
              "    }\n",
              "\n",
              "    .dataframe thead th {\n",
              "        text-align: right;\n",
              "    }\n",
              "</style>\n",
              "<table border=\"1\" class=\"dataframe\">\n",
              "  <thead>\n",
              "    <tr style=\"text-align: right;\">\n",
              "      <th></th>\n",
              "      <th>Segment</th>\n",
              "      <th>RFM Score</th>\n",
              "    </tr>\n",
              "  </thead>\n",
              "  <tbody>\n",
              "    <tr>\n",
              "      <th>0</th>\n",
              "      <td>Champions</td>\n",
              "      <td>555, 554, 544, 545, 454, 455, 445</td>\n",
              "    </tr>\n",
              "    <tr>\n",
              "      <th>1</th>\n",
              "      <td>Loyal</td>\n",
              "      <td>543, 444, 435, 355, 354, 345, 344, 335</td>\n",
              "    </tr>\n",
              "    <tr>\n",
              "      <th>2</th>\n",
              "      <td>Potential Loyalist</td>\n",
              "      <td>553, 551, 552, 541, 542, 533, 532, 531, 452, 4...</td>\n",
              "    </tr>\n",
              "    <tr>\n",
              "      <th>3</th>\n",
              "      <td>New Customers</td>\n",
              "      <td>512, 511, 422, 421, 412, 411, 311</td>\n",
              "    </tr>\n",
              "    <tr>\n",
              "      <th>4</th>\n",
              "      <td>Promising</td>\n",
              "      <td>525, 524, 523, 522, 521, 515, 514, 513, 425,42...</td>\n",
              "    </tr>\n",
              "    <tr>\n",
              "      <th>5</th>\n",
              "      <td>Need Attention</td>\n",
              "      <td>535, 534, 443, 434, 343, 334, 325, 324</td>\n",
              "    </tr>\n",
              "    <tr>\n",
              "      <th>6</th>\n",
              "      <td>About To Sleep</td>\n",
              "      <td>331, 321, 312, 221, 213, 231, 241, 251</td>\n",
              "    </tr>\n",
              "    <tr>\n",
              "      <th>7</th>\n",
              "      <td>At Risk</td>\n",
              "      <td>255, 254, 245, 244, 253, 252, 243, 242, 235, 2...</td>\n",
              "    </tr>\n",
              "    <tr>\n",
              "      <th>8</th>\n",
              "      <td>Cannot Lose Them</td>\n",
              "      <td>155, 154, 144, 214,215,115, 114, 113</td>\n",
              "    </tr>\n",
              "    <tr>\n",
              "      <th>9</th>\n",
              "      <td>Hibernating customers</td>\n",
              "      <td>332, 322, 233, 232, 223, 222, 132, 123, 122, 2...</td>\n",
              "    </tr>\n",
              "  </tbody>\n",
              "</table>\n",
              "</div>\n",
              "    <div class=\"colab-df-buttons\">\n",
              "\n",
              "  <div class=\"colab-df-container\">\n",
              "    <button class=\"colab-df-convert\" onclick=\"convertToInteractive('df-e6bab31a-76e3-466d-9dba-a13909382c45')\"\n",
              "            title=\"Convert this dataframe to an interactive table.\"\n",
              "            style=\"display:none;\">\n",
              "\n",
              "  <svg xmlns=\"http://www.w3.org/2000/svg\" height=\"24px\" viewBox=\"0 -960 960 960\">\n",
              "    <path d=\"M120-120v-720h720v720H120Zm60-500h600v-160H180v160Zm220 220h160v-160H400v160Zm0 220h160v-160H400v160ZM180-400h160v-160H180v160Zm440 0h160v-160H620v160ZM180-180h160v-160H180v160Zm440 0h160v-160H620v160Z\"/>\n",
              "  </svg>\n",
              "    </button>\n",
              "\n",
              "  <style>\n",
              "    .colab-df-container {\n",
              "      display:flex;\n",
              "      gap: 12px;\n",
              "    }\n",
              "\n",
              "    .colab-df-convert {\n",
              "      background-color: #E8F0FE;\n",
              "      border: none;\n",
              "      border-radius: 50%;\n",
              "      cursor: pointer;\n",
              "      display: none;\n",
              "      fill: #1967D2;\n",
              "      height: 32px;\n",
              "      padding: 0 0 0 0;\n",
              "      width: 32px;\n",
              "    }\n",
              "\n",
              "    .colab-df-convert:hover {\n",
              "      background-color: #E2EBFA;\n",
              "      box-shadow: 0px 1px 2px rgba(60, 64, 67, 0.3), 0px 1px 3px 1px rgba(60, 64, 67, 0.15);\n",
              "      fill: #174EA6;\n",
              "    }\n",
              "\n",
              "    .colab-df-buttons div {\n",
              "      margin-bottom: 4px;\n",
              "    }\n",
              "\n",
              "    [theme=dark] .colab-df-convert {\n",
              "      background-color: #3B4455;\n",
              "      fill: #D2E3FC;\n",
              "    }\n",
              "\n",
              "    [theme=dark] .colab-df-convert:hover {\n",
              "      background-color: #434B5C;\n",
              "      box-shadow: 0px 1px 3px 1px rgba(0, 0, 0, 0.15);\n",
              "      filter: drop-shadow(0px 1px 2px rgba(0, 0, 0, 0.3));\n",
              "      fill: #FFFFFF;\n",
              "    }\n",
              "  </style>\n",
              "\n",
              "    <script>\n",
              "      const buttonEl =\n",
              "        document.querySelector('#df-e6bab31a-76e3-466d-9dba-a13909382c45 button.colab-df-convert');\n",
              "      buttonEl.style.display =\n",
              "        google.colab.kernel.accessAllowed ? 'block' : 'none';\n",
              "\n",
              "      async function convertToInteractive(key) {\n",
              "        const element = document.querySelector('#df-e6bab31a-76e3-466d-9dba-a13909382c45');\n",
              "        const dataTable =\n",
              "          await google.colab.kernel.invokeFunction('convertToInteractive',\n",
              "                                                    [key], {});\n",
              "        if (!dataTable) return;\n",
              "\n",
              "        const docLinkHtml = 'Like what you see? Visit the ' +\n",
              "          '<a target=\"_blank\" href=https://colab.research.google.com/notebooks/data_table.ipynb>data table notebook</a>'\n",
              "          + ' to learn more about interactive tables.';\n",
              "        element.innerHTML = '';\n",
              "        dataTable['output_type'] = 'display_data';\n",
              "        await google.colab.output.renderOutput(dataTable, element);\n",
              "        const docLink = document.createElement('div');\n",
              "        docLink.innerHTML = docLinkHtml;\n",
              "        element.appendChild(docLink);\n",
              "      }\n",
              "    </script>\n",
              "  </div>\n",
              "\n",
              "\n",
              "<div id=\"df-1b26697d-1d20-440b-8582-896c6773d656\">\n",
              "  <button class=\"colab-df-quickchart\" onclick=\"quickchart('df-1b26697d-1d20-440b-8582-896c6773d656')\"\n",
              "            title=\"Suggest charts\"\n",
              "            style=\"display:none;\">\n",
              "\n",
              "<svg xmlns=\"http://www.w3.org/2000/svg\" height=\"24px\"viewBox=\"0 0 24 24\"\n",
              "     width=\"24px\">\n",
              "    <g>\n",
              "        <path d=\"M19 3H5c-1.1 0-2 .9-2 2v14c0 1.1.9 2 2 2h14c1.1 0 2-.9 2-2V5c0-1.1-.9-2-2-2zM9 17H7v-7h2v7zm4 0h-2V7h2v10zm4 0h-2v-4h2v4z\"/>\n",
              "    </g>\n",
              "</svg>\n",
              "  </button>\n",
              "\n",
              "<style>\n",
              "  .colab-df-quickchart {\n",
              "      --bg-color: #E8F0FE;\n",
              "      --fill-color: #1967D2;\n",
              "      --hover-bg-color: #E2EBFA;\n",
              "      --hover-fill-color: #174EA6;\n",
              "      --disabled-fill-color: #AAA;\n",
              "      --disabled-bg-color: #DDD;\n",
              "  }\n",
              "\n",
              "  [theme=dark] .colab-df-quickchart {\n",
              "      --bg-color: #3B4455;\n",
              "      --fill-color: #D2E3FC;\n",
              "      --hover-bg-color: #434B5C;\n",
              "      --hover-fill-color: #FFFFFF;\n",
              "      --disabled-bg-color: #3B4455;\n",
              "      --disabled-fill-color: #666;\n",
              "  }\n",
              "\n",
              "  .colab-df-quickchart {\n",
              "    background-color: var(--bg-color);\n",
              "    border: none;\n",
              "    border-radius: 50%;\n",
              "    cursor: pointer;\n",
              "    display: none;\n",
              "    fill: var(--fill-color);\n",
              "    height: 32px;\n",
              "    padding: 0;\n",
              "    width: 32px;\n",
              "  }\n",
              "\n",
              "  .colab-df-quickchart:hover {\n",
              "    background-color: var(--hover-bg-color);\n",
              "    box-shadow: 0 1px 2px rgba(60, 64, 67, 0.3), 0 1px 3px 1px rgba(60, 64, 67, 0.15);\n",
              "    fill: var(--button-hover-fill-color);\n",
              "  }\n",
              "\n",
              "  .colab-df-quickchart-complete:disabled,\n",
              "  .colab-df-quickchart-complete:disabled:hover {\n",
              "    background-color: var(--disabled-bg-color);\n",
              "    fill: var(--disabled-fill-color);\n",
              "    box-shadow: none;\n",
              "  }\n",
              "\n",
              "  .colab-df-spinner {\n",
              "    border: 2px solid var(--fill-color);\n",
              "    border-color: transparent;\n",
              "    border-bottom-color: var(--fill-color);\n",
              "    animation:\n",
              "      spin 1s steps(1) infinite;\n",
              "  }\n",
              "\n",
              "  @keyframes spin {\n",
              "    0% {\n",
              "      border-color: transparent;\n",
              "      border-bottom-color: var(--fill-color);\n",
              "      border-left-color: var(--fill-color);\n",
              "    }\n",
              "    20% {\n",
              "      border-color: transparent;\n",
              "      border-left-color: var(--fill-color);\n",
              "      border-top-color: var(--fill-color);\n",
              "    }\n",
              "    30% {\n",
              "      border-color: transparent;\n",
              "      border-left-color: var(--fill-color);\n",
              "      border-top-color: var(--fill-color);\n",
              "      border-right-color: var(--fill-color);\n",
              "    }\n",
              "    40% {\n",
              "      border-color: transparent;\n",
              "      border-right-color: var(--fill-color);\n",
              "      border-top-color: var(--fill-color);\n",
              "    }\n",
              "    60% {\n",
              "      border-color: transparent;\n",
              "      border-right-color: var(--fill-color);\n",
              "    }\n",
              "    80% {\n",
              "      border-color: transparent;\n",
              "      border-right-color: var(--fill-color);\n",
              "      border-bottom-color: var(--fill-color);\n",
              "    }\n",
              "    90% {\n",
              "      border-color: transparent;\n",
              "      border-bottom-color: var(--fill-color);\n",
              "    }\n",
              "  }\n",
              "</style>\n",
              "\n",
              "  <script>\n",
              "    async function quickchart(key) {\n",
              "      const quickchartButtonEl =\n",
              "        document.querySelector('#' + key + ' button');\n",
              "      quickchartButtonEl.disabled = true;  // To prevent multiple clicks.\n",
              "      quickchartButtonEl.classList.add('colab-df-spinner');\n",
              "      try {\n",
              "        const charts = await google.colab.kernel.invokeFunction(\n",
              "            'suggestCharts', [key], {});\n",
              "      } catch (error) {\n",
              "        console.error('Error during call to suggestCharts:', error);\n",
              "      }\n",
              "      quickchartButtonEl.classList.remove('colab-df-spinner');\n",
              "      quickchartButtonEl.classList.add('colab-df-quickchart-complete');\n",
              "    }\n",
              "    (() => {\n",
              "      let quickchartButtonEl =\n",
              "        document.querySelector('#df-1b26697d-1d20-440b-8582-896c6773d656 button');\n",
              "      quickchartButtonEl.style.display =\n",
              "        google.colab.kernel.accessAllowed ? 'block' : 'none';\n",
              "    })();\n",
              "  </script>\n",
              "</div>\n",
              "\n",
              "    </div>\n",
              "  </div>\n"
            ],
            "application/vnd.google.colaboratory.intrinsic+json": {
              "type": "dataframe",
              "variable_name": "seg",
              "summary": "{\n  \"name\": \"seg\",\n  \"rows\": 11,\n  \"fields\": [\n    {\n      \"column\": \"Segment\",\n      \"properties\": {\n        \"dtype\": \"string\",\n        \"num_unique_values\": 11,\n        \"samples\": [\n          \"Need Attention\",\n          \"Champions\",\n          \"Hibernating customers\"\n        ],\n        \"semantic_type\": \"\",\n        \"description\": \"\"\n      }\n    },\n    {\n      \"column\": \"RFM Score\",\n      \"properties\": {\n        \"dtype\": \"string\",\n        \"num_unique_values\": 11,\n        \"samples\": [\n          \"535, 534, 443, 434, 343, 334, 325, 324\",\n          \"555, 554, 544, 545, 454, 455, 445\",\n          \"332, 322, 233, 232, 223, 222, 132, 123, 122, 212, 211\"\n        ],\n        \"semantic_type\": \"\",\n        \"description\": \"\"\n      }\n    }\n  ]\n}"
            }
          },
          "metadata": {},
          "execution_count": 120
        }
      ]
    },
    {
      "cell_type": "markdown",
      "source": [
        "# EDA"
      ],
      "metadata": {
        "id": "5WRIqRLIUnG-"
      }
    },
    {
      "cell_type": "markdown",
      "source": [
        "## Xóa duplicated"
      ],
      "metadata": {
        "id": "Hv8PLUxIj5MR"
      }
    },
    {
      "cell_type": "code",
      "source": [
        "df = df.drop_duplicates()\n",
        "print(df.head())\n",
        "print(df.info())"
      ],
      "metadata": {
        "colab": {
          "base_uri": "https://localhost:8080/"
        },
        "id": "m-AL697Fj88K",
        "outputId": "bf0f2ee9-1754-4c5d-a2f3-097f7995938b"
      },
      "execution_count": null,
      "outputs": [
        {
          "output_type": "stream",
          "name": "stdout",
          "text": [
            "  InvoiceNo StockCode                          Description  Quantity  \\\n",
            "0    536365    85123A   WHITE HANGING HEART T-LIGHT HOLDER         6   \n",
            "1    536365     71053                  WHITE METAL LANTERN         6   \n",
            "2    536365    84406B       CREAM CUPID HEARTS COAT HANGER         8   \n",
            "3    536365    84029G  KNITTED UNION FLAG HOT WATER BOTTLE         6   \n",
            "4    536365    84029E       RED WOOLLY HOTTIE WHITE HEART.         6   \n",
            "\n",
            "          InvoiceDate  UnitPrice  CustomerID         Country  \n",
            "0 2010-12-01 08:26:00       2.55     17850.0  United Kingdom  \n",
            "1 2010-12-01 08:26:00       3.39     17850.0  United Kingdom  \n",
            "2 2010-12-01 08:26:00       2.75     17850.0  United Kingdom  \n",
            "3 2010-12-01 08:26:00       3.39     17850.0  United Kingdom  \n",
            "4 2010-12-01 08:26:00       3.39     17850.0  United Kingdom  \n",
            "<class 'pandas.core.frame.DataFrame'>\n",
            "Index: 536641 entries, 0 to 541908\n",
            "Data columns (total 8 columns):\n",
            " #   Column       Non-Null Count   Dtype         \n",
            "---  ------       --------------   -----         \n",
            " 0   InvoiceNo    536641 non-null  object        \n",
            " 1   StockCode    536641 non-null  object        \n",
            " 2   Description  535187 non-null  object        \n",
            " 3   Quantity     536641 non-null  int64         \n",
            " 4   InvoiceDate  536641 non-null  datetime64[ns]\n",
            " 5   UnitPrice    536641 non-null  float64       \n",
            " 6   CustomerID   401604 non-null  float64       \n",
            " 7   Country      536641 non-null  object        \n",
            "dtypes: datetime64[ns](1), float64(2), int64(1), object(4)\n",
            "memory usage: 36.8+ MB\n",
            "None\n"
          ]
        }
      ]
    },
    {
      "cell_type": "markdown",
      "source": [
        "## Xóa dữ liệu trống cột customerID"
      ],
      "metadata": {
        "id": "1EiwtW8CqFJc"
      }
    },
    {
      "cell_type": "markdown",
      "source": [
        "Ta cần phân nhóm khách hàng nên ta sẽ xóa những dòng nào customerID trống"
      ],
      "metadata": {
        "id": "_hFEU4sEpwe1"
      }
    },
    {
      "cell_type": "code",
      "source": [
        "df = df.dropna(subset=['CustomerID'])\n",
        "print(df.info())\n",
        "print(df.describe())"
      ],
      "metadata": {
        "colab": {
          "base_uri": "https://localhost:8080/"
        },
        "id": "SPrMbqshkX2W",
        "outputId": "c2d95bba-43a5-41d2-ddfc-6f3627f84a42"
      },
      "execution_count": null,
      "outputs": [
        {
          "output_type": "stream",
          "name": "stdout",
          "text": [
            "<class 'pandas.core.frame.DataFrame'>\n",
            "Index: 401604 entries, 0 to 541908\n",
            "Data columns (total 8 columns):\n",
            " #   Column       Non-Null Count   Dtype         \n",
            "---  ------       --------------   -----         \n",
            " 0   InvoiceNo    401604 non-null  object        \n",
            " 1   StockCode    401604 non-null  object        \n",
            " 2   Description  401604 non-null  object        \n",
            " 3   Quantity     401604 non-null  int64         \n",
            " 4   InvoiceDate  401604 non-null  datetime64[ns]\n",
            " 5   UnitPrice    401604 non-null  float64       \n",
            " 6   CustomerID   401604 non-null  float64       \n",
            " 7   Country      401604 non-null  object        \n",
            "dtypes: datetime64[ns](1), float64(2), int64(1), object(4)\n",
            "memory usage: 27.6+ MB\n",
            "None\n",
            "            Quantity                    InvoiceDate      UnitPrice  \\\n",
            "count  401604.000000                         401604  401604.000000   \n",
            "mean       12.183273  2011-07-10 12:08:23.848567552       3.474064   \n",
            "min    -80995.000000            2010-12-01 08:26:00       0.000000   \n",
            "25%         2.000000            2011-04-06 15:02:00       1.250000   \n",
            "50%         5.000000            2011-07-29 15:40:00       1.950000   \n",
            "75%        12.000000            2011-10-20 11:58:30       3.750000   \n",
            "max     80995.000000            2011-12-09 12:50:00   38970.000000   \n",
            "std       250.283037                            NaN      69.764035   \n",
            "\n",
            "          CustomerID  \n",
            "count  401604.000000  \n",
            "mean    15281.160818  \n",
            "min     12346.000000  \n",
            "25%     13939.000000  \n",
            "50%     15145.000000  \n",
            "75%     16784.000000  \n",
            "max     18287.000000  \n",
            "std      1714.006089  \n"
          ]
        }
      ]
    },
    {
      "cell_type": "markdown",
      "source": [
        "## Chang datatype and add column year-week"
      ],
      "metadata": {
        "id": "MNmCYFNUj0Me"
      }
    },
    {
      "cell_type": "code",
      "source": [
        "df['CustomerID'] = df['CustomerID'].astype(\"int\")\n",
        "df['InvoiceNo'] = df['InvoiceNo'].astype(\"string\")\n",
        "df['StockCode'] = df['StockCode'].astype(\"string\")\n",
        "df['Country'] = df['Country'].astype(\"string\")\n",
        "\n",
        "# Tao cột total_bill\n",
        "df['Sale'] = df['UnitPrice'] * df['Quantity']\n",
        "print(df.head())\n",
        "print(df.info())"
      ],
      "metadata": {
        "colab": {
          "base_uri": "https://localhost:8080/"
        },
        "id": "xn0AwL-EUpYL",
        "outputId": "3a0fe6f0-1527-405d-b58c-7e5b78da0a7b"
      },
      "execution_count": null,
      "outputs": [
        {
          "output_type": "stream",
          "name": "stdout",
          "text": [
            "  InvoiceNo StockCode                          Description  Quantity  \\\n",
            "0    536365    85123A   WHITE HANGING HEART T-LIGHT HOLDER         6   \n",
            "1    536365     71053                  WHITE METAL LANTERN         6   \n",
            "2    536365    84406B       CREAM CUPID HEARTS COAT HANGER         8   \n",
            "3    536365    84029G  KNITTED UNION FLAG HOT WATER BOTTLE         6   \n",
            "4    536365    84029E       RED WOOLLY HOTTIE WHITE HEART.         6   \n",
            "\n",
            "          InvoiceDate  UnitPrice  CustomerID         Country   Sale  \n",
            "0 2010-12-01 08:26:00       2.55       17850  United Kingdom  15.30  \n",
            "1 2010-12-01 08:26:00       3.39       17850  United Kingdom  20.34  \n",
            "2 2010-12-01 08:26:00       2.75       17850  United Kingdom  22.00  \n",
            "3 2010-12-01 08:26:00       3.39       17850  United Kingdom  20.34  \n",
            "4 2010-12-01 08:26:00       3.39       17850  United Kingdom  20.34  \n",
            "<class 'pandas.core.frame.DataFrame'>\n",
            "Index: 401604 entries, 0 to 541908\n",
            "Data columns (total 9 columns):\n",
            " #   Column       Non-Null Count   Dtype         \n",
            "---  ------       --------------   -----         \n",
            " 0   InvoiceNo    401604 non-null  string        \n",
            " 1   StockCode    401604 non-null  string        \n",
            " 2   Description  401604 non-null  object        \n",
            " 3   Quantity     401604 non-null  int64         \n",
            " 4   InvoiceDate  401604 non-null  datetime64[ns]\n",
            " 5   UnitPrice    401604 non-null  float64       \n",
            " 6   CustomerID   401604 non-null  int64         \n",
            " 7   Country      401604 non-null  string        \n",
            " 8   Sale         401604 non-null  float64       \n",
            "dtypes: datetime64[ns](1), float64(2), int64(2), object(1), string(3)\n",
            "memory usage: 30.6+ MB\n",
            "None\n"
          ]
        }
      ]
    },
    {
      "cell_type": "markdown",
      "source": [
        "## filter united kingdom, unit_price và quantity > 0"
      ],
      "metadata": {
        "id": "FEb52vMv-Xin"
      }
    },
    {
      "cell_type": "code",
      "source": [
        "positive_quantity = df['Quantity'] > 0\n",
        "positive_unit_price = df['UnitPrice'] > 0\n",
        "uk_country = df['Country'] == \"United Kingdom\"\n",
        "df_filtered = df[positive_quantity & positive_unit_price & uk_country]\n",
        "df_filtered"
      ],
      "metadata": {
        "colab": {
          "base_uri": "https://localhost:8080/",
          "height": 999
        },
        "id": "gZ-T5RoW-eFO",
        "outputId": "0e7c2848-93af-4748-d381-95cf3a51a7a1"
      },
      "execution_count": null,
      "outputs": [
        {
          "output_type": "execute_result",
          "data": {
            "text/plain": [
              "       InvoiceNo StockCode                          Description  Quantity  \\\n",
              "0         536365    85123A   WHITE HANGING HEART T-LIGHT HOLDER         6   \n",
              "1         536365     71053                  WHITE METAL LANTERN         6   \n",
              "2         536365    84406B       CREAM CUPID HEARTS COAT HANGER         8   \n",
              "3         536365    84029G  KNITTED UNION FLAG HOT WATER BOTTLE         6   \n",
              "4         536365    84029E       RED WOOLLY HOTTIE WHITE HEART.         6   \n",
              "...          ...       ...                                  ...       ...   \n",
              "541889    581585     22466       FAIRY TALE COTTAGE NIGHT LIGHT        12   \n",
              "541890    581586     22061  LARGE CAKE STAND  HANGING STRAWBERY         8   \n",
              "541891    581586     23275     SET OF 3 HANGING OWLS OLLIE BEAK        24   \n",
              "541892    581586     21217        RED RETROSPOT ROUND CAKE TINS        24   \n",
              "541893    581586     20685                DOORMAT RED RETROSPOT        10   \n",
              "\n",
              "               InvoiceDate  UnitPrice  CustomerID         Country    Sale  \n",
              "0      2010-12-01 08:26:00       2.55       17850  United Kingdom   15.30  \n",
              "1      2010-12-01 08:26:00       3.39       17850  United Kingdom   20.34  \n",
              "2      2010-12-01 08:26:00       2.75       17850  United Kingdom   22.00  \n",
              "3      2010-12-01 08:26:00       3.39       17850  United Kingdom   20.34  \n",
              "4      2010-12-01 08:26:00       3.39       17850  United Kingdom   20.34  \n",
              "...                    ...        ...         ...             ...     ...  \n",
              "541889 2011-12-09 12:31:00       1.95       15804  United Kingdom   23.40  \n",
              "541890 2011-12-09 12:49:00       2.95       13113  United Kingdom   23.60  \n",
              "541891 2011-12-09 12:49:00       1.25       13113  United Kingdom   30.00  \n",
              "541892 2011-12-09 12:49:00       8.95       13113  United Kingdom  214.80  \n",
              "541893 2011-12-09 12:49:00       7.08       13113  United Kingdom   70.80  \n",
              "\n",
              "[349203 rows x 9 columns]"
            ],
            "text/html": [
              "\n",
              "  <div id=\"df-cf8f39e3-847b-4537-a6ca-0efc0eb955bc\" class=\"colab-df-container\">\n",
              "    <div>\n",
              "<style scoped>\n",
              "    .dataframe tbody tr th:only-of-type {\n",
              "        vertical-align: middle;\n",
              "    }\n",
              "\n",
              "    .dataframe tbody tr th {\n",
              "        vertical-align: top;\n",
              "    }\n",
              "\n",
              "    .dataframe thead th {\n",
              "        text-align: right;\n",
              "    }\n",
              "</style>\n",
              "<table border=\"1\" class=\"dataframe\">\n",
              "  <thead>\n",
              "    <tr style=\"text-align: right;\">\n",
              "      <th></th>\n",
              "      <th>InvoiceNo</th>\n",
              "      <th>StockCode</th>\n",
              "      <th>Description</th>\n",
              "      <th>Quantity</th>\n",
              "      <th>InvoiceDate</th>\n",
              "      <th>UnitPrice</th>\n",
              "      <th>CustomerID</th>\n",
              "      <th>Country</th>\n",
              "      <th>Sale</th>\n",
              "    </tr>\n",
              "  </thead>\n",
              "  <tbody>\n",
              "    <tr>\n",
              "      <th>0</th>\n",
              "      <td>536365</td>\n",
              "      <td>85123A</td>\n",
              "      <td>WHITE HANGING HEART T-LIGHT HOLDER</td>\n",
              "      <td>6</td>\n",
              "      <td>2010-12-01 08:26:00</td>\n",
              "      <td>2.55</td>\n",
              "      <td>17850</td>\n",
              "      <td>United Kingdom</td>\n",
              "      <td>15.30</td>\n",
              "    </tr>\n",
              "    <tr>\n",
              "      <th>1</th>\n",
              "      <td>536365</td>\n",
              "      <td>71053</td>\n",
              "      <td>WHITE METAL LANTERN</td>\n",
              "      <td>6</td>\n",
              "      <td>2010-12-01 08:26:00</td>\n",
              "      <td>3.39</td>\n",
              "      <td>17850</td>\n",
              "      <td>United Kingdom</td>\n",
              "      <td>20.34</td>\n",
              "    </tr>\n",
              "    <tr>\n",
              "      <th>2</th>\n",
              "      <td>536365</td>\n",
              "      <td>84406B</td>\n",
              "      <td>CREAM CUPID HEARTS COAT HANGER</td>\n",
              "      <td>8</td>\n",
              "      <td>2010-12-01 08:26:00</td>\n",
              "      <td>2.75</td>\n",
              "      <td>17850</td>\n",
              "      <td>United Kingdom</td>\n",
              "      <td>22.00</td>\n",
              "    </tr>\n",
              "    <tr>\n",
              "      <th>3</th>\n",
              "      <td>536365</td>\n",
              "      <td>84029G</td>\n",
              "      <td>KNITTED UNION FLAG HOT WATER BOTTLE</td>\n",
              "      <td>6</td>\n",
              "      <td>2010-12-01 08:26:00</td>\n",
              "      <td>3.39</td>\n",
              "      <td>17850</td>\n",
              "      <td>United Kingdom</td>\n",
              "      <td>20.34</td>\n",
              "    </tr>\n",
              "    <tr>\n",
              "      <th>4</th>\n",
              "      <td>536365</td>\n",
              "      <td>84029E</td>\n",
              "      <td>RED WOOLLY HOTTIE WHITE HEART.</td>\n",
              "      <td>6</td>\n",
              "      <td>2010-12-01 08:26:00</td>\n",
              "      <td>3.39</td>\n",
              "      <td>17850</td>\n",
              "      <td>United Kingdom</td>\n",
              "      <td>20.34</td>\n",
              "    </tr>\n",
              "    <tr>\n",
              "      <th>...</th>\n",
              "      <td>...</td>\n",
              "      <td>...</td>\n",
              "      <td>...</td>\n",
              "      <td>...</td>\n",
              "      <td>...</td>\n",
              "      <td>...</td>\n",
              "      <td>...</td>\n",
              "      <td>...</td>\n",
              "      <td>...</td>\n",
              "    </tr>\n",
              "    <tr>\n",
              "      <th>541889</th>\n",
              "      <td>581585</td>\n",
              "      <td>22466</td>\n",
              "      <td>FAIRY TALE COTTAGE NIGHT LIGHT</td>\n",
              "      <td>12</td>\n",
              "      <td>2011-12-09 12:31:00</td>\n",
              "      <td>1.95</td>\n",
              "      <td>15804</td>\n",
              "      <td>United Kingdom</td>\n",
              "      <td>23.40</td>\n",
              "    </tr>\n",
              "    <tr>\n",
              "      <th>541890</th>\n",
              "      <td>581586</td>\n",
              "      <td>22061</td>\n",
              "      <td>LARGE CAKE STAND  HANGING STRAWBERY</td>\n",
              "      <td>8</td>\n",
              "      <td>2011-12-09 12:49:00</td>\n",
              "      <td>2.95</td>\n",
              "      <td>13113</td>\n",
              "      <td>United Kingdom</td>\n",
              "      <td>23.60</td>\n",
              "    </tr>\n",
              "    <tr>\n",
              "      <th>541891</th>\n",
              "      <td>581586</td>\n",
              "      <td>23275</td>\n",
              "      <td>SET OF 3 HANGING OWLS OLLIE BEAK</td>\n",
              "      <td>24</td>\n",
              "      <td>2011-12-09 12:49:00</td>\n",
              "      <td>1.25</td>\n",
              "      <td>13113</td>\n",
              "      <td>United Kingdom</td>\n",
              "      <td>30.00</td>\n",
              "    </tr>\n",
              "    <tr>\n",
              "      <th>541892</th>\n",
              "      <td>581586</td>\n",
              "      <td>21217</td>\n",
              "      <td>RED RETROSPOT ROUND CAKE TINS</td>\n",
              "      <td>24</td>\n",
              "      <td>2011-12-09 12:49:00</td>\n",
              "      <td>8.95</td>\n",
              "      <td>13113</td>\n",
              "      <td>United Kingdom</td>\n",
              "      <td>214.80</td>\n",
              "    </tr>\n",
              "    <tr>\n",
              "      <th>541893</th>\n",
              "      <td>581586</td>\n",
              "      <td>20685</td>\n",
              "      <td>DOORMAT RED RETROSPOT</td>\n",
              "      <td>10</td>\n",
              "      <td>2011-12-09 12:49:00</td>\n",
              "      <td>7.08</td>\n",
              "      <td>13113</td>\n",
              "      <td>United Kingdom</td>\n",
              "      <td>70.80</td>\n",
              "    </tr>\n",
              "  </tbody>\n",
              "</table>\n",
              "<p>349203 rows × 9 columns</p>\n",
              "</div>\n",
              "    <div class=\"colab-df-buttons\">\n",
              "\n",
              "  <div class=\"colab-df-container\">\n",
              "    <button class=\"colab-df-convert\" onclick=\"convertToInteractive('df-cf8f39e3-847b-4537-a6ca-0efc0eb955bc')\"\n",
              "            title=\"Convert this dataframe to an interactive table.\"\n",
              "            style=\"display:none;\">\n",
              "\n",
              "  <svg xmlns=\"http://www.w3.org/2000/svg\" height=\"24px\" viewBox=\"0 -960 960 960\">\n",
              "    <path d=\"M120-120v-720h720v720H120Zm60-500h600v-160H180v160Zm220 220h160v-160H400v160Zm0 220h160v-160H400v160ZM180-400h160v-160H180v160Zm440 0h160v-160H620v160ZM180-180h160v-160H180v160Zm440 0h160v-160H620v160Z\"/>\n",
              "  </svg>\n",
              "    </button>\n",
              "\n",
              "  <style>\n",
              "    .colab-df-container {\n",
              "      display:flex;\n",
              "      gap: 12px;\n",
              "    }\n",
              "\n",
              "    .colab-df-convert {\n",
              "      background-color: #E8F0FE;\n",
              "      border: none;\n",
              "      border-radius: 50%;\n",
              "      cursor: pointer;\n",
              "      display: none;\n",
              "      fill: #1967D2;\n",
              "      height: 32px;\n",
              "      padding: 0 0 0 0;\n",
              "      width: 32px;\n",
              "    }\n",
              "\n",
              "    .colab-df-convert:hover {\n",
              "      background-color: #E2EBFA;\n",
              "      box-shadow: 0px 1px 2px rgba(60, 64, 67, 0.3), 0px 1px 3px 1px rgba(60, 64, 67, 0.15);\n",
              "      fill: #174EA6;\n",
              "    }\n",
              "\n",
              "    .colab-df-buttons div {\n",
              "      margin-bottom: 4px;\n",
              "    }\n",
              "\n",
              "    [theme=dark] .colab-df-convert {\n",
              "      background-color: #3B4455;\n",
              "      fill: #D2E3FC;\n",
              "    }\n",
              "\n",
              "    [theme=dark] .colab-df-convert:hover {\n",
              "      background-color: #434B5C;\n",
              "      box-shadow: 0px 1px 3px 1px rgba(0, 0, 0, 0.15);\n",
              "      filter: drop-shadow(0px 1px 2px rgba(0, 0, 0, 0.3));\n",
              "      fill: #FFFFFF;\n",
              "    }\n",
              "  </style>\n",
              "\n",
              "    <script>\n",
              "      const buttonEl =\n",
              "        document.querySelector('#df-cf8f39e3-847b-4537-a6ca-0efc0eb955bc button.colab-df-convert');\n",
              "      buttonEl.style.display =\n",
              "        google.colab.kernel.accessAllowed ? 'block' : 'none';\n",
              "\n",
              "      async function convertToInteractive(key) {\n",
              "        const element = document.querySelector('#df-cf8f39e3-847b-4537-a6ca-0efc0eb955bc');\n",
              "        const dataTable =\n",
              "          await google.colab.kernel.invokeFunction('convertToInteractive',\n",
              "                                                    [key], {});\n",
              "        if (!dataTable) return;\n",
              "\n",
              "        const docLinkHtml = 'Like what you see? Visit the ' +\n",
              "          '<a target=\"_blank\" href=https://colab.research.google.com/notebooks/data_table.ipynb>data table notebook</a>'\n",
              "          + ' to learn more about interactive tables.';\n",
              "        element.innerHTML = '';\n",
              "        dataTable['output_type'] = 'display_data';\n",
              "        await google.colab.output.renderOutput(dataTable, element);\n",
              "        const docLink = document.createElement('div');\n",
              "        docLink.innerHTML = docLinkHtml;\n",
              "        element.appendChild(docLink);\n",
              "      }\n",
              "    </script>\n",
              "  </div>\n",
              "\n",
              "\n",
              "<div id=\"df-afbc069b-0d8b-408f-991f-e2a7e70db9fc\">\n",
              "  <button class=\"colab-df-quickchart\" onclick=\"quickchart('df-afbc069b-0d8b-408f-991f-e2a7e70db9fc')\"\n",
              "            title=\"Suggest charts\"\n",
              "            style=\"display:none;\">\n",
              "\n",
              "<svg xmlns=\"http://www.w3.org/2000/svg\" height=\"24px\"viewBox=\"0 0 24 24\"\n",
              "     width=\"24px\">\n",
              "    <g>\n",
              "        <path d=\"M19 3H5c-1.1 0-2 .9-2 2v14c0 1.1.9 2 2 2h14c1.1 0 2-.9 2-2V5c0-1.1-.9-2-2-2zM9 17H7v-7h2v7zm4 0h-2V7h2v10zm4 0h-2v-4h2v4z\"/>\n",
              "    </g>\n",
              "</svg>\n",
              "  </button>\n",
              "\n",
              "<style>\n",
              "  .colab-df-quickchart {\n",
              "      --bg-color: #E8F0FE;\n",
              "      --fill-color: #1967D2;\n",
              "      --hover-bg-color: #E2EBFA;\n",
              "      --hover-fill-color: #174EA6;\n",
              "      --disabled-fill-color: #AAA;\n",
              "      --disabled-bg-color: #DDD;\n",
              "  }\n",
              "\n",
              "  [theme=dark] .colab-df-quickchart {\n",
              "      --bg-color: #3B4455;\n",
              "      --fill-color: #D2E3FC;\n",
              "      --hover-bg-color: #434B5C;\n",
              "      --hover-fill-color: #FFFFFF;\n",
              "      --disabled-bg-color: #3B4455;\n",
              "      --disabled-fill-color: #666;\n",
              "  }\n",
              "\n",
              "  .colab-df-quickchart {\n",
              "    background-color: var(--bg-color);\n",
              "    border: none;\n",
              "    border-radius: 50%;\n",
              "    cursor: pointer;\n",
              "    display: none;\n",
              "    fill: var(--fill-color);\n",
              "    height: 32px;\n",
              "    padding: 0;\n",
              "    width: 32px;\n",
              "  }\n",
              "\n",
              "  .colab-df-quickchart:hover {\n",
              "    background-color: var(--hover-bg-color);\n",
              "    box-shadow: 0 1px 2px rgba(60, 64, 67, 0.3), 0 1px 3px 1px rgba(60, 64, 67, 0.15);\n",
              "    fill: var(--button-hover-fill-color);\n",
              "  }\n",
              "\n",
              "  .colab-df-quickchart-complete:disabled,\n",
              "  .colab-df-quickchart-complete:disabled:hover {\n",
              "    background-color: var(--disabled-bg-color);\n",
              "    fill: var(--disabled-fill-color);\n",
              "    box-shadow: none;\n",
              "  }\n",
              "\n",
              "  .colab-df-spinner {\n",
              "    border: 2px solid var(--fill-color);\n",
              "    border-color: transparent;\n",
              "    border-bottom-color: var(--fill-color);\n",
              "    animation:\n",
              "      spin 1s steps(1) infinite;\n",
              "  }\n",
              "\n",
              "  @keyframes spin {\n",
              "    0% {\n",
              "      border-color: transparent;\n",
              "      border-bottom-color: var(--fill-color);\n",
              "      border-left-color: var(--fill-color);\n",
              "    }\n",
              "    20% {\n",
              "      border-color: transparent;\n",
              "      border-left-color: var(--fill-color);\n",
              "      border-top-color: var(--fill-color);\n",
              "    }\n",
              "    30% {\n",
              "      border-color: transparent;\n",
              "      border-left-color: var(--fill-color);\n",
              "      border-top-color: var(--fill-color);\n",
              "      border-right-color: var(--fill-color);\n",
              "    }\n",
              "    40% {\n",
              "      border-color: transparent;\n",
              "      border-right-color: var(--fill-color);\n",
              "      border-top-color: var(--fill-color);\n",
              "    }\n",
              "    60% {\n",
              "      border-color: transparent;\n",
              "      border-right-color: var(--fill-color);\n",
              "    }\n",
              "    80% {\n",
              "      border-color: transparent;\n",
              "      border-right-color: var(--fill-color);\n",
              "      border-bottom-color: var(--fill-color);\n",
              "    }\n",
              "    90% {\n",
              "      border-color: transparent;\n",
              "      border-bottom-color: var(--fill-color);\n",
              "    }\n",
              "  }\n",
              "</style>\n",
              "\n",
              "  <script>\n",
              "    async function quickchart(key) {\n",
              "      const quickchartButtonEl =\n",
              "        document.querySelector('#' + key + ' button');\n",
              "      quickchartButtonEl.disabled = true;  // To prevent multiple clicks.\n",
              "      quickchartButtonEl.classList.add('colab-df-spinner');\n",
              "      try {\n",
              "        const charts = await google.colab.kernel.invokeFunction(\n",
              "            'suggestCharts', [key], {});\n",
              "      } catch (error) {\n",
              "        console.error('Error during call to suggestCharts:', error);\n",
              "      }\n",
              "      quickchartButtonEl.classList.remove('colab-df-spinner');\n",
              "      quickchartButtonEl.classList.add('colab-df-quickchart-complete');\n",
              "    }\n",
              "    (() => {\n",
              "      let quickchartButtonEl =\n",
              "        document.querySelector('#df-afbc069b-0d8b-408f-991f-e2a7e70db9fc button');\n",
              "      quickchartButtonEl.style.display =\n",
              "        google.colab.kernel.accessAllowed ? 'block' : 'none';\n",
              "    })();\n",
              "  </script>\n",
              "</div>\n",
              "\n",
              "  <div id=\"id_810783be-f9ba-490f-a32a-f0fd05c4a0d1\">\n",
              "    <style>\n",
              "      .colab-df-generate {\n",
              "        background-color: #E8F0FE;\n",
              "        border: none;\n",
              "        border-radius: 50%;\n",
              "        cursor: pointer;\n",
              "        display: none;\n",
              "        fill: #1967D2;\n",
              "        height: 32px;\n",
              "        padding: 0 0 0 0;\n",
              "        width: 32px;\n",
              "      }\n",
              "\n",
              "      .colab-df-generate:hover {\n",
              "        background-color: #E2EBFA;\n",
              "        box-shadow: 0px 1px 2px rgba(60, 64, 67, 0.3), 0px 1px 3px 1px rgba(60, 64, 67, 0.15);\n",
              "        fill: #174EA6;\n",
              "      }\n",
              "\n",
              "      [theme=dark] .colab-df-generate {\n",
              "        background-color: #3B4455;\n",
              "        fill: #D2E3FC;\n",
              "      }\n",
              "\n",
              "      [theme=dark] .colab-df-generate:hover {\n",
              "        background-color: #434B5C;\n",
              "        box-shadow: 0px 1px 3px 1px rgba(0, 0, 0, 0.15);\n",
              "        filter: drop-shadow(0px 1px 2px rgba(0, 0, 0, 0.3));\n",
              "        fill: #FFFFFF;\n",
              "      }\n",
              "    </style>\n",
              "    <button class=\"colab-df-generate\" onclick=\"generateWithVariable('df_filtered')\"\n",
              "            title=\"Generate code using this dataframe.\"\n",
              "            style=\"display:none;\">\n",
              "\n",
              "  <svg xmlns=\"http://www.w3.org/2000/svg\" height=\"24px\"viewBox=\"0 0 24 24\"\n",
              "       width=\"24px\">\n",
              "    <path d=\"M7,19H8.4L18.45,9,17,7.55,7,17.6ZM5,21V16.75L18.45,3.32a2,2,0,0,1,2.83,0l1.4,1.43a1.91,1.91,0,0,1,.58,1.4,1.91,1.91,0,0,1-.58,1.4L9.25,21ZM18.45,9,17,7.55Zm-12,3A5.31,5.31,0,0,0,4.9,8.1,5.31,5.31,0,0,0,1,6.5,5.31,5.31,0,0,0,4.9,4.9,5.31,5.31,0,0,0,6.5,1,5.31,5.31,0,0,0,8.1,4.9,5.31,5.31,0,0,0,12,6.5,5.46,5.46,0,0,0,6.5,12Z\"/>\n",
              "  </svg>\n",
              "    </button>\n",
              "    <script>\n",
              "      (() => {\n",
              "      const buttonEl =\n",
              "        document.querySelector('#id_810783be-f9ba-490f-a32a-f0fd05c4a0d1 button.colab-df-generate');\n",
              "      buttonEl.style.display =\n",
              "        google.colab.kernel.accessAllowed ? 'block' : 'none';\n",
              "\n",
              "      buttonEl.onclick = () => {\n",
              "        google.colab.notebook.generateWithVariable('df_filtered');\n",
              "      }\n",
              "      })();\n",
              "    </script>\n",
              "  </div>\n",
              "\n",
              "    </div>\n",
              "  </div>\n"
            ],
            "application/vnd.google.colaboratory.intrinsic+json": {
              "type": "dataframe",
              "variable_name": "df_filtered"
            }
          },
          "metadata": {},
          "execution_count": 124
        }
      ]
    },
    {
      "cell_type": "markdown",
      "source": [
        "# Tính điểm, phân loại"
      ],
      "metadata": {
        "id": "imyFLNFkC_m2"
      }
    },
    {
      "cell_type": "markdown",
      "source": [
        "## Tính điểm"
      ],
      "metadata": {
        "id": "05zKRPGUwFMT"
      }
    },
    {
      "cell_type": "markdown",
      "source": [
        "### Tính điểm cho recency"
      ],
      "metadata": {
        "id": "i184b7WTDwoO"
      }
    },
    {
      "cell_type": "code",
      "source": [
        "# Tạo bảng cho recency\n",
        "df_recency = df_filtered.groupby('CustomerID')['InvoiceDate'].max().reset_index()\n",
        "df_recency['Recency'] = (df_recency['InvoiceDate'].max() - df_recency['InvoiceDate']).dt.days\n",
        "\n",
        "# Tạo điểm quantile\n",
        "twentieth = df_recency['Recency'].quantile(0.2)\n",
        "fortieth = df_recency['Recency'].quantile(0.4)\n",
        "sixtieth = df_recency['Recency'].quantile(0.6)\n",
        "eightieth = df_recency['Recency'].quantile(0.8)\n",
        "maximum = df_recency['Recency'].max()\n",
        "\n",
        "# labels and bins\n",
        "points_label = ['5', '4', '3', '2', '1']\n",
        "bins = [-1, twentieth, fortieth, sixtieth, eightieth, maximum + 1]\n",
        "\n",
        "df_recency['recency_score'] = (pd.cut(df_recency['Recency'], labels=points_label, bins=bins)).astype(\"string\")\n",
        "print(df_recency.sort_values('Recency'))\n"
      ],
      "metadata": {
        "id": "qxRTsoCCJCO9",
        "outputId": "d440d6fe-9348-47a9-be05-f2588ec81ded",
        "colab": {
          "base_uri": "https://localhost:8080/"
        }
      },
      "execution_count": null,
      "outputs": [
        {
          "output_type": "stream",
          "name": "stdout",
          "text": [
            "      CustomerID         InvoiceDate  Recency recency_score\n",
            "1794       15344 2011-12-09 10:45:00        0             5\n",
            "3315       17451 2011-12-08 15:02:00        0             5\n",
            "1275       14621 2011-12-08 16:22:00        0             5\n",
            "1267       14606 2011-12-08 19:28:00        0             5\n",
            "2564       16401 2011-12-08 18:15:00        0             5\n",
            "...          ...                 ...      ...           ...\n",
            "3690       17968 2010-12-01 12:23:00      373             1\n",
            "3762       18074 2010-12-01 09:53:00      373             1\n",
            "3646       17908 2010-12-01 11:45:00      373             1\n",
            "661        13747 2010-12-01 10:37:00      373             1\n",
            "1354       14729 2010-12-01 12:43:00      373             1\n",
            "\n",
            "[3920 rows x 4 columns]\n"
          ]
        }
      ]
    },
    {
      "cell_type": "markdown",
      "source": [
        "### Tính điểm cho frequency"
      ],
      "metadata": {
        "id": "3ISUbSdTL-3A"
      }
    },
    {
      "cell_type": "code",
      "source": [
        "# Tạo bảng cho frequency\n",
        "df_frequency = df_filtered.groupby('CustomerID')['InvoiceDate'].count().reset_index()\n",
        "df_frequency.columns = ['CustomerID', 'frequency']\n",
        "\n",
        "# Tạo điểm quantile\n",
        "twentieth = df_frequency['frequency'].quantile(0.2)\n",
        "fortieth = df_frequency['frequency'].quantile(0.4)\n",
        "sixtieth = df_frequency['frequency'].quantile(0.6)\n",
        "eightieth = df_frequency['frequency'].quantile(0.8)\n",
        "maximum = df_frequency['frequency'].max()\n",
        "\n",
        "# # labels and bins\n",
        "points_label = ['1', '2', '3', '4', '5']\n",
        "bins = [0, twentieth, fortieth, sixtieth, eightieth, maximum]\n",
        "\n",
        "df_frequency['frequency_score'] = (pd.cut(df_frequency['frequency'], labels=points_label, bins=bins)).astype(\"string\")\n",
        "print(df_frequency)\n"
      ],
      "metadata": {
        "colab": {
          "base_uri": "https://localhost:8080/"
        },
        "id": "3tpmsDvkMEig",
        "outputId": "7bbee0e9-e075-4711-8880-c9fc905720a6"
      },
      "execution_count": null,
      "outputs": [
        {
          "output_type": "stream",
          "name": "stdout",
          "text": [
            "      CustomerID  frequency frequency_score\n",
            "0          12346          1               1\n",
            "1          12747        103               4\n",
            "2          12748       4412               5\n",
            "3          12749        199               5\n",
            "4          12820         59               4\n",
            "...          ...        ...             ...\n",
            "3915       18280         10               1\n",
            "3916       18281          7               1\n",
            "3917       18282         12               1\n",
            "3918       18283        721               5\n",
            "3919       18287         70               4\n",
            "\n",
            "[3920 rows x 3 columns]\n"
          ]
        }
      ]
    },
    {
      "cell_type": "markdown",
      "source": [
        "### Tính điểm cho monetary"
      ],
      "metadata": {
        "id": "uBFrSHZxaDmh"
      }
    },
    {
      "cell_type": "code",
      "source": [
        "# Tạo bảng cho monetary\n",
        "df_monetary = df_filtered.groupby('CustomerID')['Sale'].sum().reset_index()\n",
        "\n",
        "# Tạo điểm quantile\n",
        "twentieth = df_monetary['Sale'].quantile(0.2)\n",
        "fortieth = df_monetary['Sale'].quantile(0.4)\n",
        "sixtieth = df_monetary['Sale'].quantile(0.6)\n",
        "eightieth = df_monetary['Sale'].quantile(0.8)\n",
        "maximum = df_monetary['Sale'].max()\n",
        "\n",
        "# labels and bins\n",
        "points_label = ['1', '2', '3', '4', '5']\n",
        "bins = [0, twentieth, fortieth, sixtieth, eightieth, maximum]\n",
        "\n",
        "df_monetary['monetary_score'] = (pd.cut(df_monetary['Sale'], labels=points_label, bins=bins)).astype(\"string\")\n",
        "print(df_monetary.sort_values('Sale'))"
      ],
      "metadata": {
        "colab": {
          "base_uri": "https://localhost:8080/"
        },
        "id": "VxfaTOaLaHZR",
        "outputId": "00582cc1-dbb6-4275-b05d-69365b2f33d9"
      },
      "execution_count": null,
      "outputs": [
        {
          "output_type": "stream",
          "name": "stdout",
          "text": [
            "      CustomerID       Sale monetary_score\n",
            "2807       16738       3.75              1\n",
            "1398       14792       6.20              1\n",
            "2604       16454       6.90              1\n",
            "3680       17956      12.75              1\n",
            "2913       16878      13.30              1\n",
            "...          ...        ...            ...\n",
            "2294       16029   80850.84              5\n",
            "3356       17511   91062.38              5\n",
            "2598       16446  168472.50              5\n",
            "3314       17450  194390.79              5\n",
            "3783       18102  259657.30              5\n",
            "\n",
            "[3920 rows x 3 columns]\n"
          ]
        }
      ]
    },
    {
      "cell_type": "markdown",
      "source": [
        "## Segmentaion"
      ],
      "metadata": {
        "id": "1aqRwg0fwdim"
      }
    },
    {
      "cell_type": "markdown",
      "source": [
        "### Merge các điểm để phân loại"
      ],
      "metadata": {
        "id": "2cCeBBJ5oi1o"
      }
    },
    {
      "cell_type": "code",
      "source": [
        "# merge cac diem lai\n",
        "df_merge = df_recency.merge(df_frequency, on='CustomerID').merge(df_monetary, on='CustomerID')\n",
        "df_merge['RFM_score'] = df_merge['recency_score'] + df_merge['frequency_score'] + df_merge['monetary_score']\n",
        "user_score = df_merge[['CustomerID', 'Recency', 'frequency', 'Sale', 'recency_score', 'frequency_score', 'monetary_score', 'RFM_score']]\n",
        "print(user_score)\n",
        "user_score.info()"
      ],
      "metadata": {
        "collapsed": true,
        "id": "kQMcal-3osCP",
        "colab": {
          "base_uri": "https://localhost:8080/"
        },
        "outputId": "26bb7385-bde8-436d-8203-f4b4af37765d"
      },
      "execution_count": null,
      "outputs": [
        {
          "output_type": "stream",
          "name": "stdout",
          "text": [
            "      CustomerID  Recency  frequency      Sale recency_score frequency_score  \\\n",
            "0          12346      325          1  77183.60             1               1   \n",
            "1          12747        1        103   4196.01             5               4   \n",
            "2          12748        0       4412  33053.19             5               5   \n",
            "3          12749        3        199   4090.88             5               5   \n",
            "4          12820        2         59    942.34             5               4   \n",
            "...          ...      ...        ...       ...           ...             ...   \n",
            "3915       18280      277         10    180.60             1               1   \n",
            "3916       18281      180          7     80.82             1               1   \n",
            "3917       18282        7         12    178.05             5               1   \n",
            "3918       18283        3        721   2045.53             5               5   \n",
            "3919       18287       42         70   1837.28             3               4   \n",
            "\n",
            "     monetary_score RFM_score  \n",
            "0                 5       115  \n",
            "1                 5       545  \n",
            "2                 5       555  \n",
            "3                 5       555  \n",
            "4                 4       544  \n",
            "...             ...       ...  \n",
            "3915              1       111  \n",
            "3916              1       111  \n",
            "3917              1       511  \n",
            "3918              5       555  \n",
            "3919              4       344  \n",
            "\n",
            "[3920 rows x 8 columns]\n",
            "<class 'pandas.core.frame.DataFrame'>\n",
            "RangeIndex: 3920 entries, 0 to 3919\n",
            "Data columns (total 8 columns):\n",
            " #   Column           Non-Null Count  Dtype  \n",
            "---  ------           --------------  -----  \n",
            " 0   CustomerID       3920 non-null   int64  \n",
            " 1   Recency          3920 non-null   int64  \n",
            " 2   frequency        3920 non-null   int64  \n",
            " 3   Sale             3920 non-null   float64\n",
            " 4   recency_score    3920 non-null   string \n",
            " 5   frequency_score  3920 non-null   string \n",
            " 6   monetary_score   3920 non-null   string \n",
            " 7   RFM_score        3920 non-null   string \n",
            "dtypes: float64(1), int64(3), string(4)\n",
            "memory usage: 245.1 KB\n"
          ]
        }
      ]
    },
    {
      "cell_type": "markdown",
      "source": [
        "### Phân loại"
      ],
      "metadata": {
        "id": "6tSopnDjur0-"
      }
    },
    {
      "cell_type": "code",
      "source": [
        "# convert comma-separated string to a list of rfm scores\n",
        "seg.columns = ['Segment', 'RFM_score']\n",
        "seg['RFM_score'] = seg['RFM_score'].str.split(',')\n",
        "\n",
        "# transform each element of a list-like to a row\n",
        "seg = seg.explode('RFM_score').reset_index(drop=True)\n",
        "\n",
        "# chang type\n",
        "seg['RFM_score'] = seg['RFM_score'].astype(\"string\")\n",
        "# seg['Segment'] = seg['Segment'].astype(\"string\")\n",
        "seg['RFM_score'] = seg['RFM_score'].str.strip()\n",
        "\n",
        "# merge 2 bang voi nhau\n",
        "user_categ_merge = user_score.merge(seg, on='RFM_score')\n",
        "\n",
        "print(user_categ_merge)\n",
        "print(user_categ_merge.info())"
      ],
      "metadata": {
        "colab": {
          "base_uri": "https://localhost:8080/"
        },
        "id": "TnpZmc-s2FCM",
        "outputId": "065edef6-52a8-46c4-f2ff-6f92a9a236e9"
      },
      "execution_count": null,
      "outputs": [
        {
          "output_type": "stream",
          "name": "stdout",
          "text": [
            "      CustomerID  Recency  frequency      Sale recency_score frequency_score  \\\n",
            "0          12346      325          1  77183.60             1               1   \n",
            "1          12747        1        103   4196.01             5               4   \n",
            "2          12748        0       4412  33053.19             5               5   \n",
            "3          12749        3        199   4090.88             5               5   \n",
            "4          12820        2         59    942.34             5               4   \n",
            "...          ...      ...        ...       ...           ...             ...   \n",
            "3915       18280      277         10    180.60             1               1   \n",
            "3916       18281      180          7     80.82             1               1   \n",
            "3917       18282        7         12    178.05             5               1   \n",
            "3918       18283        3        721   2045.53             5               5   \n",
            "3919       18287       42         70   1837.28             3               4   \n",
            "\n",
            "     monetary_score RFM_score           Segment  \n",
            "0                 5       115  Cannot Lose Them  \n",
            "1                 5       545         Champions  \n",
            "2                 5       555         Champions  \n",
            "3                 5       555         Champions  \n",
            "4                 4       544         Champions  \n",
            "...             ...       ...               ...  \n",
            "3915              1       111    Lost customers  \n",
            "3916              1       111    Lost customers  \n",
            "3917              1       511     New Customers  \n",
            "3918              5       555         Champions  \n",
            "3919              4       344             Loyal  \n",
            "\n",
            "[3920 rows x 9 columns]\n",
            "<class 'pandas.core.frame.DataFrame'>\n",
            "RangeIndex: 3920 entries, 0 to 3919\n",
            "Data columns (total 9 columns):\n",
            " #   Column           Non-Null Count  Dtype  \n",
            "---  ------           --------------  -----  \n",
            " 0   CustomerID       3920 non-null   int64  \n",
            " 1   Recency          3920 non-null   int64  \n",
            " 2   frequency        3920 non-null   int64  \n",
            " 3   Sale             3920 non-null   float64\n",
            " 4   recency_score    3920 non-null   string \n",
            " 5   frequency_score  3920 non-null   string \n",
            " 6   monetary_score   3920 non-null   string \n",
            " 7   RFM_score        3920 non-null   string \n",
            " 8   Segment          3920 non-null   object \n",
            "dtypes: float64(1), int64(3), object(1), string(4)\n",
            "memory usage: 275.8+ KB\n",
            "None\n"
          ]
        }
      ]
    },
    {
      "cell_type": "markdown",
      "source": [
        "# Visualization"
      ],
      "metadata": {
        "id": "ly_V-C730nov"
      }
    },
    {
      "cell_type": "markdown",
      "source": [
        "## Distribution of Recency, Frequency, Monetary"
      ],
      "metadata": {
        "id": "3ylPFWko2rgG"
      }
    },
    {
      "cell_type": "code",
      "source": [
        "# show distribution of each variable of the model\n",
        "colnames = ['recency_score', 'frequency_score', 'monetary_score']\n",
        "\n",
        "for col in colnames:\n",
        "  fig, ax = plt.subplots(figsize=(12,3))\n",
        "  sns.distplot(user_categ_merge[col])\n",
        "  ax.set_title(f\"Distribution of {col}\")\n",
        "  plt.show()"
      ],
      "metadata": {
        "colab": {
          "base_uri": "https://localhost:8080/",
          "height": 1000
        },
        "id": "tjgkIcqo0nPd",
        "outputId": "76f06f4b-f838-4092-fc7d-539ef717a675"
      },
      "execution_count": null,
      "outputs": [
        {
          "output_type": "stream",
          "name": "stderr",
          "text": [
            "<ipython-input-130-f90d898d8bbd>:6: UserWarning: \n",
            "\n",
            "`distplot` is a deprecated function and will be removed in seaborn v0.14.0.\n",
            "\n",
            "Please adapt your code to use either `displot` (a figure-level function with\n",
            "similar flexibility) or `histplot` (an axes-level function for histograms).\n",
            "\n",
            "For a guide to updating your code to use the new functions, please see\n",
            "https://gist.github.com/mwaskom/de44147ed2974457ad6372750bbe5751\n",
            "\n",
            "  sns.distplot(user_categ_merge[col])\n"
          ]
        },
        {
          "output_type": "display_data",
          "data": {
            "text/plain": [
              "<Figure size 1200x300 with 1 Axes>"
            ],
            "image/png": "[encoded data removed]"
          },
          "metadata": {}
        },
        {
          "output_type": "stream",
          "name": "stderr",
          "text": [
            "<ipython-input-130-f90d898d8bbd>:6: UserWarning: \n",
            "\n",
            "`distplot` is a deprecated function and will be removed in seaborn v0.14.0.\n",
            "\n",
            "Please adapt your code to use either `displot` (a figure-level function with\n",
            "similar flexibility) or `histplot` (an axes-level function for histograms).\n",
            "\n",
            "For a guide to updating your code to use the new functions, please see\n",
            "https://gist.github.com/mwaskom/de44147ed2974457ad6372750bbe5751\n",
            "\n",
            "  sns.distplot(user_categ_merge[col])\n"
          ]
        },
        {
          "output_type": "display_data",
          "data": {
            "text/plain": [
              "<Figure size 1200x300 with 1 Axes>"
            ],
            "image/png": "[encoded data removed]"
          },
          "metadata": {}
        },
        {
          "output_type": "stream",
          "name": "stderr",
          "text": [
            "<ipython-input-130-f90d898d8bbd>:6: UserWarning: \n",
            "\n",
            "`distplot` is a deprecated function and will be removed in seaborn v0.14.0.\n",
            "\n",
            "Please adapt your code to use either `displot` (a figure-level function with\n",
            "similar flexibility) or `histplot` (an axes-level function for histograms).\n",
            "\n",
            "For a guide to updating your code to use the new functions, please see\n",
            "https://gist.github.com/mwaskom/de44147ed2974457ad6372750bbe5751\n",
            "\n",
            "  sns.distplot(user_categ_merge[col])\n"
          ]
        },
        {
          "output_type": "display_data",
          "data": {
            "text/plain": [
              "<Figure size 1200x300 with 1 Axes>"
            ],
            "image/png": "[encoded data removed]"
          },
          "metadata": {}
        }
      ]
    },
    {
      "cell_type": "markdown",
      "source": [
        "## Customer distibution of segmentation"
      ],
      "metadata": {
        "id": "OHALVDCP_dTJ"
      }
    },
    {
      "cell_type": "code",
      "source": [
        "fig, ax = plt.subplots(figsize=(12,3))\n",
        "sns.histplot(user_categ_merge[\"Segment\"])\n",
        "plt.xticks(rotation=90)\n",
        "plt.show()"
      ],
      "metadata": {
        "colab": {
          "base_uri": "https://localhost:8080/",
          "height": 298
        },
        "id": "sSf-h6dI3JMd",
        "outputId": "77c036cf-998c-4ad1-c5e1-a9dbddab2edb"
      },
      "execution_count": null,
      "outputs": [
        {
          "output_type": "display_data",
          "data": {
            "text/plain": [
              "<Figure size 1200x300 with 1 Axes>"
            ],
            "image/png": "[encoded data removed]"
          },
          "metadata": {}
        }
      ]
    },
    {
      "cell_type": "markdown",
      "source": [
        "## Segment by customer, segmet by total sales"
      ],
      "metadata": {
        "id": "Lj8R534129xl"
      }
    },
    {
      "cell_type": "code",
      "source": [
        "# Tinh Cust_count\n",
        "user_categ_merge['Cust_count'] = 1\n",
        "grp = user_categ_merge.groupby('Segment')[['Cust_count', 'Sale']].sum().reset_index()\n",
        "\n",
        "total_sale = grp['Sale'].sum()\n",
        "total_custo = grp['Cust_count'].sum()\n",
        "grp['Count_share'] = grp['Cust_count'] / total_custo\n",
        "grp['Sale_share'] = grp['Sale'] / total_sale\n",
        "print(grp)\n"
      ],
      "metadata": {
        "colab": {
          "base_uri": "https://localhost:8080/"
        },
        "id": "wJTqxcPd7iLX",
        "outputId": "1eb91b14-570b-45aa-f559-5ad0961085b2"
      },
      "execution_count": null,
      "outputs": [
        {
          "output_type": "stream",
          "name": "stdout",
          "text": [
            "                  Segment  Cust_count         Sale  Count_share  Sale_share\n",
            "0          About To Sleep         176    50660.380     0.044898    0.006954\n",
            "1                 At Risk         383   541594.780     0.097704    0.074344\n",
            "2        Cannot Lose Them          81   279409.201     0.020663    0.038354\n",
            "3               Champions         727  4341648.390     0.185459    0.595969\n",
            "4   Hibernating customers         725   277410.062     0.184949    0.038079\n",
            "5          Lost customers         392    67515.820     0.100000    0.009268\n",
            "6                   Loyal         355   793997.060     0.090561    0.108990\n",
            "7          Need Attention         221   309128.280     0.056378    0.042433\n",
            "8           New Customers         272    53869.650     0.069388    0.007395\n",
            "9      Potential Loyalist         458   254032.191     0.116837    0.034870\n",
            "10              Promising         130   315758.830     0.033163    0.043344\n"
          ]
        }
      ]
    },
    {
      "cell_type": "code",
      "source": [
        "# treemap\n",
        "colors = ['#FF0000', '#00FFFF', '#FFFF00', '#A52A2A', '#800080', '#00FF00', '#808000', '#FFC0CB', '#FFA500', '#FF00FF', '#736F6E']\n",
        "\n",
        "fig, ax = plt.subplots(1, figsize=(15, 8))\n",
        "\n",
        "# Size: số lượng khách hàng; %: phần trăm doanh thu trên tổng doanh thu\n",
        "squarify.plot(sizes=grp['Cust_count'],\n",
        "              label=grp['Segment'],\n",
        "              value=[f'{x*100:.2f}%' for x in grp['Count_share']],\n",
        "              alpha=.8,\n",
        "              color=colors,\n",
        "              bar_kwargs=dict(linewidth=1.5, edgecolor=\"white\")\n",
        "              )\n",
        "plt.title('RFM Segments of Customer Count', fontsize=16)\n",
        "plt.axis('off')\n",
        "plt.show()\n"
      ],
      "metadata": {
        "id": "AjSsfnGf_p95",
        "colab": {
          "base_uri": "https://localhost:8080/",
          "height": 377
        },
        "outputId": "b1b09a9b-fb5d-4d81-b1e7-ebadd9ebdb8c"
      },
      "execution_count": null,
      "outputs": [
        {
          "output_type": "display_data",
          "data": {
            "text/plain": [
              "<Figure size 1500x800 with 1 Axes>"
            ],
            "image/png": "[encoded data removed]"
          },
          "metadata": {}
        }
      ]
    },
    {
      "cell_type": "code",
      "source": [
        "# Sale per segmet bar chart\n",
        "sns.catplot(x=grp['Segment'], y= grp['Sale_share'], kind=\"bar\")\n",
        "plt.xticks(rotation=90)\n",
        "plt.show()"
      ],
      "metadata": {
        "colab": {
          "base_uri": "https://localhost:8080/",
          "height": 651
        },
        "id": "SmH0ERSBJnlk",
        "outputId": "62631151-c462-4de1-b1a1-5b502d3d0c03"
      },
      "execution_count": null,
      "outputs": [
        {
          "output_type": "display_data",
          "data": {
            "text/plain": [
              "<Figure size 511.111x500 with 1 Axes>"
            ],
            "image/png": "[encoded data removed]"
          },
          "metadata": {}
        }
      ]
    }
  ]
}